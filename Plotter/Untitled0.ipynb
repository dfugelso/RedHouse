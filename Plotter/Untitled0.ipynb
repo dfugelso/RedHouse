{
 "metadata": {
  "name": ""
 },
 "nbformat": 3,
 "nbformat_minor": 0,
 "worksheets": [
  {
   "cells": [
    {
     "cell_type": "code",
     "collapsed": false,
     "input": [
      "import matplotlib\n",
      "import numpy as np\n",
      "import matplotlib.cm as cm\n",
      "import matplotlib.mlab as mlab\n",
      "import matplotlib.pyplot as plt"
     ],
     "language": "python",
     "metadata": {},
     "outputs": [],
     "prompt_number": 1
    },
    {
     "cell_type": "code",
     "collapsed": false,
     "input": [
      "d = dict()\n",
      "\n",
      "d[12] = [1577, 1317, 1602, 1010, 1006, 1061, 1547, 1006 ,1008,]\n",
      "d[17] = [1066, 1062, 1011, 1066, 1042\t, 1070\t, 1022\t, 1080\t, 1281\t, ]\n",
      "d[27] = [1010, 1007, 1269, 1046\t, 1039\t, 1062\t, 1108\t, 1052\t, 1009\t, ]\n",
      "d[47] = [2032, 2302, 1009, 1136\t, 1619\t, 1011\t, 1008\t, 1301\t, ]\n",
      "d[87] = [1200, 1006, 1010, 1008\t, 1037\t, 1010\t, 1180\t, 1202\t, 1036\t, ]\n",
      "d[167] = [976, 1381, 1013, 1048\t, 1208\t, 1282\t, 1017\t, 1015\t, 1016\t, ]\t\n",
      "d[327] = [1087, 1135, 1056, 1436, 1296\t, 1026\t, 1020\t, 1050\t, 19298\t, ]\n",
      "d[647] = [1040, 1149, 1065, 1591, 1439\t, 1471\t, 1117\t, 1064\t, 1058\t, ]\n",
      "d[1287] = [1051, 1271, 1420, 1287, 1226\t, 1076\t, 1283\t, 1405\t, 2628\t, ]\n",
      "d[2567] = [1649, 1139, 1121, 1117, 1102\t, 1233\t, 1116\t, 1104\t, 1104\t, ]\n",
      "d[5127] = [1765, 1214, 1236, 1211, 1223\t, 1216\t, 1615\t, 1181\t, 1217\t, ]\n",
      "d[10247] = [1499, 1394, 1448, 1578, 1461, 1409, 1422, 1441, 1408, ]\n",
      "d[20487] = [1818, 1843, 1987, 1831, 1966, 1800\t, 1835\t, 3310\t, 2926\t, ]\n",
      "d[40967] = [2652, 2707, 8958, 9099, 7186, 4356\t, 5134\t, 4305\t, 4926\t, ]\t\n",
      "d[81927] = [4620, 34747, 13913, 8315, 8662, 9268\t, 8886\t, 9196\t, 9387\t, ]\n",
      "d[163847] = [78739, 17632, 18003, 17504, 18289, 18121, 17625, 18780, 18388, ]"
     ],
     "language": "python",
     "metadata": {},
     "outputs": [],
     "prompt_number": 6
    },
    {
     "cell_type": "code",
     "collapsed": false,
     "input": [
      "matplotlib.rcParams['xtick.direction'] = 'out'\n",
      "matplotlib.rcParams['ytick.direction'] = 'out'\n",
      "\n",
      "delta = 0.025\n",
      "x = np.arange(-3.0, 3.0, delta)\n",
      "y = np.arange(-2.0, 2.0, delta)\n",
      "X, Y = np.meshgrid(x, y)\n",
      "Z1 = mlab.bivariate_normal(X, Y, 1.0, 1.0, 0.0, 0.0)\n",
      "Z2 = mlab.bivariate_normal(X, Y, 1.5, 0.5, 1, 1)\n",
      "# difference of Gaussians\n",
      "Z = 10.0 * (Z2 - Z1)"
     ],
     "language": "python",
     "metadata": {},
     "outputs": [],
     "prompt_number": 3
    },
    {
     "cell_type": "code",
     "collapsed": false,
     "input": [
      "# Create a simple contour plot with labels using default colors.  The\n",
      "# inline argument to clabel will control whether the labels are draw\n",
      "# over the line segments of the contour, removing the lines beneath\n",
      "# the label\n",
      "plt.figure()\n",
      "CS = plt.contour(X, Y, Z)\n",
      "plt.clabel(CS, inline=1, fontsize=10)\n",
      "plt.title('Simplest default with labels')\n",
      "\n",
      "\n",
      "\n",
      "plt.show()"
     ],
     "language": "python",
     "metadata": {},
     "outputs": [],
     "prompt_number": 5
    },
    {
     "cell_type": "code",
     "collapsed": false,
     "input": [
      "payloads = d.keys()\n",
      "print payloads\n",
      "for a in payloads:\n",
      "    d[a] = np.array(d[a])\n",
      "    "
     ],
     "language": "python",
     "metadata": {},
     "outputs": [
      {
       "output_type": "stream",
       "stream": "stdout",
       "text": [
        "[1287, 40967, 10247, 167, 2567, 81927, 327, 12, 20487, 47, 17, 87, 5127, 163847, 27, 647]\n"
       ]
      }
     ],
     "prompt_number": 3
    },
    {
     "cell_type": "code",
     "collapsed": false,
     "input": [
      "for a in payloads:\n",
      "    print a, np.mean(d[a]), np.std(d[a])\n",
      "    "
     ],
     "language": "python",
     "metadata": {},
     "outputs": [
      {
       "output_type": "stream",
       "stream": "stdout",
       "text": [
        "12 1237.11111111 256.686771699\n",
        "17 1077.77777778 75.0862878113\n",
        "27 1066.88888889 77.5835670522\n",
        "47 1427.25 473.340720306\n",
        "87 1076.55555556 83.9458967446\n",
        "167 1106.22222222 137.525575624\n",
        "327 3047.22222222 5756.10832609\n",
        "647 1221.55555556 203.097191354\n",
        "1287 1405.22222222 448.245413381\n",
        "2567 1187.22222222 167.717870099\n",
        "5127 1319.77777778 201.488228373\n",
        "10247 1451.11111111 54.1036955904\n",
        "20487 2146.22222222 530.830748874\n",
        "40967 5480.33333333 2281.85660276\n",
        "81927 11888.2222222 8379.93637973\n",
        "163847 24786.7777778 19078.9649369\n"
       ]
      }
     ],
     "prompt_number": 14
    },
    {
     "cell_type": "code",
     "collapsed": false,
     "input": [
      "x = np.array(payloads)\n",
      "s = np.array([np.std(d[payload])/1000. for payload in payloads] )\n",
      "y = np.array([np.mean(d[payload])/1000. for payload in payloads] )\n",
      "mn = np.array([np.min(d[payload])/1000. for payload in payloads] )\n",
      "mx = np.array([np.max(d[payload])/1000. for payload in payloads] )\n",
      "\n",
      "\n",
      "# example error bar values that vary with x-position\n",
      "error = mn\n",
      "# error bar values w/ different -/+ errors\n",
      "lower_error = mn\n",
      "upper_error = mx\n",
      "asymmetric_error = [lower_error, upper_error]\n",
      "#asymmetric_error = zip(mn, mx)\n",
      "\n",
      "fig, ax0 = plt.subplots(nrows=1, sharex=True)\n",
      "ax0.errorbar(x, y, yerr=asymmetric_error, fmt='o')\n",
      "ax0.set_title('Websocket Transmission Times by Payload Size')\n",
      "ax0.set_xscale('log')\n",
      "ax0.set_yscale('log')\n",
      "ax0.set_ylim([0,100])\n",
      "ax0.set_xlabel('Payload Size (Bytes)')\n",
      "ax0.set_ylabel('Time Between Send/Receive (Seconds)')\n",
      "\n",
      "plt.show()\n",
      "print mn\n",
      "print mx"
     ],
     "language": "python",
     "metadata": {},
     "outputs": [
      {
       "output_type": "stream",
       "stream": "stdout",
       "text": [
        "[  1.006   1.011   1.007   1.008   1.006   0.976   1.02    1.04    1.051\n",
        "   1.102   1.181   1.394   1.8     2.652   4.62   17.504]\n",
        "[  1.602   1.281   1.269   2.302   1.202   1.381  19.298   1.591   2.628\n",
        "   1.649   1.765   1.578   3.31    9.099  34.747  78.739]\n"
       ]
      }
     ],
     "prompt_number": 12
    },
    {
     "cell_type": "code",
     "collapsed": false,
     "input": [
      "payloads.sort()\n",
      "9"
     ],
     "language": "python",
     "metadata": {},
     "outputs": [
      {
       "metadata": {},
       "output_type": "pyout",
       "prompt_number": 10,
       "text": [
        "9"
       ]
      }
     ],
     "prompt_number": 10
    },
    {
     "cell_type": "code",
     "collapsed": false,
     "input": [
      "payloads\n"
     ],
     "language": "python",
     "metadata": {},
     "outputs": [
      {
       "metadata": {},
       "output_type": "pyout",
       "prompt_number": 13,
       "text": [
        "[12,\n",
        " 17,\n",
        " 27,\n",
        " 47,\n",
        " 87,\n",
        " 167,\n",
        " 327,\n",
        " 647,\n",
        " 1287,\n",
        " 2567,\n",
        " 5127,\n",
        " 10247,\n",
        " 20487,\n",
        " 40967,\n",
        " 81927,\n",
        " 163847]"
       ]
      }
     ],
     "prompt_number": 13
    },
    {
     "cell_type": "code",
     "collapsed": false,
     "input": [
      "x = payloads\n",
      "s = np.array([np.std(d[payload]) for payload in payloads] )\n",
      "y = np.array([np.mean(d[payload]) for payload in payloads] )\n",
      "\n",
      "print x\n",
      "print y\n",
      "print s\n",
      "print mn\n",
      "print mx\n",
      "mn = [np.min(d[payload]) for payload in payloads] \n",
      "mx = [np.max(d[payload]) for payload in payloads]\n",
      "print zip(mn, mx)\n",
      "\n",
      "\n",
      "\n",
      "\n"
     ],
     "language": "python",
     "metadata": {},
     "outputs": [
      {
       "output_type": "stream",
       "stream": "stdout",
       "text": [
        "[12, 17, 27, 47, 87, 167, 327, 647, 1287, 2567, 5127, 10247, 20487, 40967, 81927, 163847]\n",
        "[  1237.11111111   1077.77777778   1066.88888889   1427.25         1076.55555556\n",
        "   1106.22222222   3047.22222222   1221.55555556   1405.22222222\n",
        "   1187.22222222   1319.77777778   1451.11111111   2146.22222222\n",
        "   5480.33333333  11888.22222222  24786.77777778]\n",
        "[   256.6867717      75.08628781     77.58356705    473.34072031\n",
        "     83.94589674    137.52557562   5756.10832609    203.09719135\n",
        "    448.24541338    167.7178701     201.48822837     54.10369559\n",
        "    530.83074887   2281.85660276   8379.93637973  19078.96493685]\n",
        "[1006, 1011, 1007, 1008, 1006, 976, 108, 1040, 1051, 1102, 1181, 1394, 1800, 2652, 4620, 17504]\n",
        "[1602, 1281, 1269, 2302, 1202, 1381, 19298, 1591, 2628, 1649, 1765, 1578, 3310, 9099, 34747, 78739]\n",
        "[(1006, 1602), (1011, 1281), (1007, 1269), (1008, 2302), (1006, 1202), (976, 1381), (108, 19298), (1040, 1591), (1051, 2628), (1102, 1649), (1181, 1765), (1394, 1578), (1800, 3310), (2652, 9099), (4620, 34747), (17504, 78739)]\n"
       ]
      }
     ],
     "prompt_number": 26
    },
    {
     "cell_type": "code",
     "collapsed": false,
     "input": [],
     "language": "python",
     "metadata": {},
     "outputs": []
    }
   ],
   "metadata": {}
  }
 ]
}